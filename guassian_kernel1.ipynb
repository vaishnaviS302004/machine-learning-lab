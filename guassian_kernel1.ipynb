{
  "nbformat": 4,
  "nbformat_minor": 0,
  "metadata": {
    "colab": {
      "provenance": [],
      "authorship_tag": "ABX9TyNxEXYVQoAfo5RB8v8rmBdj",
      "include_colab_link": true
    },
    "kernelspec": {
      "name": "python3",
      "display_name": "Python 3"
    },
    "language_info": {
      "name": "python"
    }
  },
  "cells": [
    {
      "cell_type": "markdown",
      "metadata": {
        "id": "view-in-github",
        "colab_type": "text"
      },
      "source": [
        "<a href=\"https://colab.research.google.com/github/vaishnaviS302004/machine-learning-lab/blob/main/guassian_kernel1.ipynb\" target=\"_parent\"><img src=\"https://colab.research.google.com/assets/colab-badge.svg\" alt=\"Open In Colab\"/></a>"
      ]
    },
    {
      "cell_type": "code",
      "execution_count": null,
      "metadata": {
        "id": "ZJ-VqSxqxF3J"
      },
      "outputs": [],
      "source": [
        "import numpy as np"
      ]
    },
    {
      "cell_type": "code",
      "source": [
        "X = np.array([[0, 0], [0, 1], [1, 0], [1, 1]])\n",
        "Y = np.array([[0], [1], [1], [0]])  # NAND problem"
      ],
      "metadata": {
        "id": "8uSDFv6FxYOO"
      },
      "execution_count": null,
      "outputs": []
    },
    {
      "cell_type": "code",
      "source": [
        "def rbf_kernel(x1, x2, sigma=1.0):\n",
        "    return np.exp(-np.linalg.norm(x1 - x2) ** 2 / (2 * (sigma ** 2)))"
      ],
      "metadata": {
        "id": "6kQQu420xcyg"
      },
      "execution_count": null,
      "outputs": []
    },
    {
      "cell_type": "code",
      "source": [
        "from sklearn.cluster import KMeans\n",
        "\n",
        "kmeans = KMeans(n_clusters=4).fit(X)\n",
        "centers = kmeans.cluster_centers_"
      ],
      "metadata": {
        "id": "r1zowwOfxg2U"
      },
      "execution_count": null,
      "outputs": []
    },
    {
      "cell_type": "code",
      "source": [
        "from scipy.spatial.distance import cdist\n",
        "d_max = np.max(cdist(centers, centers, 'euclidean'))\n",
        "sigma = d_max / np.sqrt(2 * len(centers))"
      ],
      "metadata": {
        "id": "MhgwxBE8xl_A"
      },
      "execution_count": null,
      "outputs": []
    },
    {
      "cell_type": "code",
      "source": [
        "R = np.zeros((X.shape[0], len(centers)))\n",
        "for i in range(X.shape[0]):\n",
        "    for j in range(len(centers)):\n",
        "        R[i, j] = rbf_kernel(X[i], centers[j], sigma)"
      ],
      "metadata": {
        "id": "4RpPmHFJxsaf"
      },
      "execution_count": null,
      "outputs": []
    },
    {
      "cell_type": "code",
      "source": [
        "W = np.dot(np.linalg.pinv(R), Y)"
      ],
      "metadata": {
        "id": "ZoialSqqxwhF"
      },
      "execution_count": null,
      "outputs": []
    },
    {
      "cell_type": "code",
      "source": [
        "def rbf_network(X, centers, sigma, W):\n",
        "    R = np.zeros((X.shape[0], len(centers)))\n",
        "    for i in range(X.shape[0]):\n",
        "        for j in range(len(centers)):\n",
        "            R[i, j] = rbf_kernel(X[i], centers[j], sigma)\n",
        "    return np.dot(R, W)"
      ],
      "metadata": {
        "id": "sa-XSC-6x_AK"
      },
      "execution_count": null,
      "outputs": []
    },
    {
      "cell_type": "code",
      "source": [
        "y_pred = rbf_network(X, centers, sigma, W)"
      ],
      "metadata": {
        "id": "oGirxeVjyFwX"
      },
      "execution_count": null,
      "outputs": []
    },
    {
      "cell_type": "code",
      "source": [
        "print(y_pred)"
      ],
      "metadata": {
        "colab": {
          "base_uri": "https://localhost:8080/"
        },
        "id": "OVdFz7eFydES",
        "outputId": "85f4163d-75f3-4931-85ea-046719977bd2"
      },
      "execution_count": null,
      "outputs": [
        {
          "output_type": "stream",
          "name": "stdout",
          "text": [
            "[[-8.04911693e-16]\n",
            " [ 1.00000000e+00]\n",
            " [ 1.00000000e+00]\n",
            " [-5.55111512e-17]]\n"
          ]
        }
      ]
    },
    {
      "cell_type": "code",
      "source": [
        "mse = np.mean(np.square(Y - y_pred))\n",
        "print(\"Mean Squared Error:\",mse)"
      ],
      "metadata": {
        "colab": {
          "base_uri": "https://localhost:8080/"
        },
        "id": "dd69tgQgy3MV",
        "outputId": "aac57c40-c20c-4a81-b35f-c0c59c4d41d4"
      },
      "execution_count": null,
      "outputs": [
        {
          "output_type": "stream",
          "name": "stdout",
          "text": [
            "Mean Squared Error: 3.5071184287291565e-31\n"
          ]
        }
      ]
    },
    {
      "cell_type": "code",
      "source": [
        "import numpy as np\n",
        "from sklearn.cluster import KMeans\n",
        "from scipy.spatial.distance import cdist\n",
        "\n",
        "# Define a new kernel function (e.g., Gaussian kernel)\n",
        "def gaussian_kernel(x1, x2, sigma=1.0):\n",
        "    return np.exp(-np.linalg.norm(x1 - x2)**2 / (2 * (sigma**2)))\n",
        "\n",
        "# Define a new center selection method (e.g., random centers)\n",
        "def random_centers(X, num_centers):\n",
        "    indices = np.random.choice(X.shape[0], num_centers, replace=False)\n",
        "    return X[indices]\n",
        "\n",
        "# Input data and target values (same as before)\n",
        "X = np.array([[0, 0], [0, 1], [1, 0], [1, 1]])\n",
        "Y = np.array([[0], [1], [1], [0]])  # NAND problem\n",
        "\n",
        "# Select centers using the new method\n",
        "num_centers = 4\n",
        "centers = random_centers(X, num_centers)\n",
        "\n",
        "# Calculate sigma based on the new centers\n",
        "d_max = np.max(cdist(centers, centers, 'euclidean'))\n",
        "sigma = d_max / np.sqrt(2 * len(centers))\n",
        "\n",
        "# Calculate the RBF matrix using the new kernel function\n",
        "R = np.zeros((X.shape[0], len(centers)))\n",
        "for i in range(X.shape[0]):\n",
        "    for j in range(len(centers)):\n",
        "        R[i, j] = gaussian_kernel(X[i], centers[j], sigma)\n",
        "\n",
        "# Calculate the weights using pseudo-inverse\n",
        "W = np.dot(np.linalg.pinv(R), Y)\n",
        "\n",
        "# Define the RBF network function\n",
        "def rbf_network(X, centers, sigma, W, kernel_func):\n",
        "    R = np.zeros((X.shape[0], len(centers)))\n",
        "    for i in range(X.shape[0]):\n",
        "        for j in range(len(centers)):\n",
        "            R[i, j] = kernel_func(X[i], centers[j], sigma)\n",
        "    return np.dot(R, W)\n",
        "\n",
        "# Make predictions using the new kernel function and centers\n",
        "y_pred = rbf_network(X, centers, sigma, W, gaussian_kernel)\n",
        "\n",
        "# Calculate the Mean Squared Error\n",
        "mse = np.mean(np.square(Y - y_pred))\n",
        "print(\"Mean Squared Error:\", mse)"
      ],
      "metadata": {
        "colab": {
          "base_uri": "https://localhost:8080/"
        },
        "id": "89kF1y26zg96",
        "outputId": "37058f1d-86d3-4c74-efb4-a1c1ee8a83f4"
      },
      "execution_count": null,
      "outputs": [
        {
          "output_type": "stream",
          "name": "stdout",
          "text": [
            "Mean Squared Error: 2.22252315582287e-31\n"
          ]
        }
      ]
    },
    {
      "cell_type": "code",
      "source": [
        "import numpy as np\n",
        "\n",
        "def gaussian_kernel(x1, x2, sigma=1.0):\n",
        "    return np.exp(-np.linalg.norm(x1 - x2)**2 / (2 * (sigma**2)))\n",
        "\n",
        "def linear_kernel(x1, x2):\n",
        "    return np.dot(x1.T, x2)\n",
        "\n",
        "# Example usage\n",
        "x1 = np.array([1, 2])\n",
        "x2 = np.array([3, 4])\n",
        "\n",
        "gaussian_result = gaussian_kernel(x1, x2)\n",
        "linear_result = linear_kernel(x1, x2)\n",
        "\n",
        "print(\"Gaussian Kernel:\", gaussian_result)\n",
        "print(\"Linear Kernel:\", linear_result)"
      ],
      "metadata": {
        "colab": {
          "base_uri": "https://localhost:8080/"
        },
        "id": "Ehi1cgTM0WY0",
        "outputId": "aa99d866-1be7-4a8c-cc56-51a4a6395c05"
      },
      "execution_count": null,
      "outputs": [
        {
          "output_type": "stream",
          "name": "stdout",
          "text": [
            "Gaussian Kernel: 0.018315638888734165\n",
            "Linear Kernel: 11\n"
          ]
        }
      ]
    },
    {
      "cell_type": "code",
      "source": [
        "import numpy as np\n",
        "\n",
        "def gaussian_kernel(x1, x2, sigma=1.0):\n",
        "    return np.exp(-np.linalg.norm(x1 - x2)**2 / (2 * (sigma**2)))\n",
        "\n",
        "def linear_kernel(x1, x2):\n",
        "    return np.dot(x1.T, x2)\n",
        "\n",
        "# Example usage\n",
        "x1 = np.array([1, 2])\n",
        "x2 = np.array([3, 4])\n",
        "\n",
        "gaussian_result = gaussian_kernel(x1, x2)\n",
        "linear_result = linear_kernel(x1, x2)\n",
        "\n",
        "print(\"Gaussian Kernel:\", gaussian_result)\n",
        "print(\"Linear Kernel:\", linear_result)"
      ],
      "metadata": {
        "colab": {
          "base_uri": "https://localhost:8080/"
        },
        "id": "f0NLHt440cud",
        "outputId": "3452477e-de65-4726-e95f-04e32944a74c"
      },
      "execution_count": null,
      "outputs": [
        {
          "output_type": "stream",
          "name": "stdout",
          "text": [
            "Gaussian Kernel: 0.018315638888734165\n",
            "Linear Kernel: 11\n"
          ]
        }
      ]
    },
    {
      "cell_type": "code",
      "source": [
        "import numpy as np\n",
        "from sklearn.cluster import KMeans\n",
        "from scipy.spatial.distance import cdist\n",
        "\n",
        "# Generate random data\n",
        "num_samples = 100\n",
        "num_features = 2\n",
        "X = np.random.rand(num_samples, num_features)  # Random input data\n",
        "Y = np.random.randint(0, 2, size=(num_samples, 1))  # Random target values (0 or 1)\n",
        "\n",
        "\n",
        "# Define the Gaussian kernel function\n",
        "def gaussian_kernel(x1, x2, sigma=1.0):\n",
        "    return np.exp(-np.linalg.norm(x1 - x2)**2 / (2 * (sigma**2)))\n",
        "\n",
        "\n",
        "# Use KMeans to select centers\n",
        "num_centers = 4\n",
        "kmeans = KMeans(n_clusters=num_centers).fit(X)\n",
        "centers = kmeans.cluster_centers_\n",
        "\n",
        "# Calculate sigma based on the centers\n",
        "d_max = np.max(cdist(centers, centers, 'euclidean'))\n",
        "sigma = d_max / np.sqrt(2 * len(centers))\n",
        "\n",
        "# Calculate the RBF matrix using the Gaussian kernel\n",
        "R = np.zeros((X.shape[0], len(centers)))\n",
        "for i in range(X.shape[0]):\n",
        "    for j in range(len(centers)):\n",
        "        R[i, j] = gaussian_kernel(X[i], centers[j], sigma)\n",
        "\n",
        "# Calculate the weights using pseudo-inverse\n",
        "W = np.dot(np.linalg.pinv(R), Y)\n",
        "\n",
        "\n",
        "# Define the RBF network function\n",
        "def rbf_network(X, centers, sigma, W, kernel_func):\n",
        "    R = np.zeros((X.shape[0], len(centers)))\n",
        "    for i in range(X.shape[0]):\n",
        "        for j in range(len(centers)):\n",
        "            R[i, j] = kernel_func(X[i], centers[j], sigma)\n",
        "    return np.dot(R, W)\n",
        "\n",
        "\n",
        "# Make predictions using the RBF network\n",
        "y_pred = rbf_network(X, centers, sigma, W, gaussian_kernel)\n",
        "\n",
        "\n",
        "# Calculate the Mean Squared Error\n",
        "mse = np.mean(np.square(Y - y_pred))\n",
        "print(\"Mean Squared Error:\", mse)"
      ],
      "metadata": {
        "id": "O3nktQV10sPi",
        "outputId": "5366a3e4-2fbe-491d-fb67-862e777fe331",
        "colab": {
          "base_uri": "https://localhost:8080/"
        }
      },
      "execution_count": 15,
      "outputs": [
        {
          "output_type": "stream",
          "name": "stdout",
          "text": [
            "Mean Squared Error: 0.25146135925599056\n"
          ]
        }
      ]
    }
  ]
}