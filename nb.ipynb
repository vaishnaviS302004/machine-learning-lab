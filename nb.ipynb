{
  "nbformat": 4,
  "nbformat_minor": 0,
  "metadata": {
    "colab": {
      "provenance": [],
      "authorship_tag": "ABX9TyPok89F6FTD3IVgIyjBOPVt",
      "include_colab_link": true
    },
    "kernelspec": {
      "name": "python3",
      "display_name": "Python 3"
    },
    "language_info": {
      "name": "python"
    }
  },
  "cells": [
    {
      "cell_type": "markdown",
      "metadata": {
        "id": "view-in-github",
        "colab_type": "text"
      },
      "source": [
        "<a href=\"https://colab.research.google.com/github/vaishnaviS302004/machine-learning-lab/blob/main/nb.ipynb\" target=\"_parent\"><img src=\"https://colab.research.google.com/assets/colab-badge.svg\" alt=\"Open In Colab\"/></a>"
      ]
    },
    {
      "cell_type": "code",
      "execution_count": 1,
      "metadata": {
        "id": "cQYHgpGgquSv"
      },
      "outputs": [],
      "source": [
        "import pandas as pd"
      ]
    },
    {
      "cell_type": "code",
      "source": [
        "df = pd.read_csv('PlayTennis_NB_Example.csv')\n",
        "\n",
        "# Display the first 5 rows of the dataset\n",
        "print(df.head())"
      ],
      "metadata": {
        "colab": {
          "base_uri": "https://localhost:8080/"
        },
        "id": "kCwrA9HRrNE8",
        "outputId": "0c54e554-5da7-4c55-daee-9059332a13d6"
      },
      "execution_count": 2,
      "outputs": [
        {
          "output_type": "stream",
          "name": "stdout",
          "text": [
            "  Day   Outlook Temperature Humidity    Wind PlayTennis\n",
            "0  D1     Sunny         Hot     High    Weak         No\n",
            "1  D2     Sunny         Hot     High  Strong         No\n",
            "2  D3  Overcast         Hot     High    Weak        Yes\n",
            "3  D4      Rain        Mild     High    Weak        Yes\n",
            "4  D5      Rain        Cool   Normal    Weak        Yes\n"
          ]
        }
      ]
    },
    {
      "cell_type": "code",
      "source": [
        "test_case = {'Outlook': 'Sunny', 'Temperature': 'Cool', 'Humidity': 'High', 'Wind': 'Strong'}\n",
        "\n",
        "# Calculate the prior probabilities for each class label\n",
        "prior_probabilities = df['PlayTennis'].value_counts(normalize=True).to_dict()\n",
        "\n",
        "# Round the prior probabilities to 2 decimal places\n",
        "prior_probabilities = {k: round(v, 2) for k, v in prior_probabilities.items()}\n",
        "print(\"Rounded Prior Probabilities: \", prior_probabilities)"
      ],
      "metadata": {
        "colab": {
          "base_uri": "https://localhost:8080/"
        },
        "id": "1lWmyBAYrbbc",
        "outputId": "304b67c7-0204-4ce5-c12d-d55f8bb23237"
      },
      "execution_count": 3,
      "outputs": [
        {
          "output_type": "stream",
          "name": "stdout",
          "text": [
            "Rounded Prior Probabilities:  {'Yes': 0.64, 'No': 0.36}\n"
          ]
        }
      ]
    },
    {
      "cell_type": "code",
      "source": [
        "# Compute the likelihood probabilities for each feature given the class label\n",
        "likelihood_probabilities = {}\n",
        "\n",
        "# Exclude the target variable and the Day columen from the features\n",
        "for feature in df.columns[1:-1]:\n",
        "    likelihood_probabilities[feature] = {}\n",
        "    for class_label in df['PlayTennis'].unique():\n",
        "        # Calculate the likelihood probability for each feature given the class label\n",
        "        likelihood_probabilities[feature][class_label] = df[df['PlayTennis'] == class_label][feature].value_counts(normalize=True).to_dict()\n",
        "        # Round the likelihood probabilities to 2 decimal places\n",
        "        likelihood_probabilities[feature][class_label] = {k: round(v, 2) for k, v in likelihood_probabilities[feature][class_label].items()}\n",
        "        print(f\"Likelihood Probabilities for {feature} given {class_label}: \", likelihood_probabilities[feature][class_label])"
      ],
      "metadata": {
        "colab": {
          "base_uri": "https://localhost:8080/"
        },
        "id": "m3jRgNMDrnqT",
        "outputId": "a0b3bd58-39d6-4a88-a6ec-6cd04c339125"
      },
      "execution_count": 4,
      "outputs": [
        {
          "output_type": "stream",
          "name": "stdout",
          "text": [
            "Likelihood Probabilities for Outlook given No:  {'Sunny': 0.6, 'Rain': 0.4}\n",
            "Likelihood Probabilities for Outlook given Yes:  {'Overcast': 0.44, 'Rain': 0.33, 'Sunny': 0.22}\n",
            "Likelihood Probabilities for Temperature given No:  {'Hot': 0.4, 'Mild': 0.4, 'Cool': 0.2}\n",
            "Likelihood Probabilities for Temperature given Yes:  {'Mild': 0.44, 'Cool': 0.33, 'Hot': 0.22}\n",
            "Likelihood Probabilities for Humidity given No:  {'High': 0.8, 'Normal': 0.2}\n",
            "Likelihood Probabilities for Humidity given Yes:  {'Normal': 0.67, 'High': 0.33}\n",
            "Likelihood Probabilities for Wind given No:  {'Strong': 0.6, 'Weak': 0.4}\n",
            "Likelihood Probabilities for Wind given Yes:  {'Weak': 0.67, 'Strong': 0.33}\n"
          ]
        }
      ]
    },
    {
      "cell_type": "code",
      "source": [
        "# Navie Bayes Probability  for playTennis = Yes\n",
        "prob_yes = prior_probabilities['Yes']\n",
        "for feature, value in test_case.items():\n",
        "    prob_yes *= likelihood_probabilities[feature]['Yes'].get(value, 0)\n",
        "\n",
        "#print the probability of PlayTennis = Yes with two decimal places\n",
        "\n",
        "print(\"Probability of PlayTennis = Yes: \", round(prob_yes,4))"
      ],
      "metadata": {
        "colab": {
          "base_uri": "https://localhost:8080/"
        },
        "id": "oyv1B2WxrpZg",
        "outputId": "b51bf261-5b0c-4682-d194-4f533799161b"
      },
      "execution_count": 5,
      "outputs": [
        {
          "output_type": "stream",
          "name": "stdout",
          "text": [
            "Probability of PlayTennis = Yes:  0.0051\n"
          ]
        }
      ]
    },
    {
      "cell_type": "code",
      "source": [
        "# Navie Bayes Probability  for playTennis = No\n",
        "prob_no = prior_probabilities['No']\n",
        "for feature, value in test_case.items():\n",
        "    prob_no *= likelihood_probabilities[feature]['No'].get(value, 0)\n",
        "\n",
        "#print the probability of PlayTennis = Yes with two decimal places\n",
        "\n",
        "print(\"Probability of PlayTennis = No: \", round(prob_no,4))"
      ],
      "metadata": {
        "colab": {
          "base_uri": "https://localhost:8080/"
        },
        "id": "Qxr7stunrtI9",
        "outputId": "827a4cd3-a4cb-4f24-d25c-c51b1b250488"
      },
      "execution_count": 6,
      "outputs": [
        {
          "output_type": "stream",
          "name": "stdout",
          "text": [
            "Probability of PlayTennis = No:  0.0207\n"
          ]
        }
      ]
    },
    {
      "cell_type": "code",
      "source": [
        "if prob_yes > prob_no:\n",
        "    print(\"The predicted class is: PlayTennis = Yes\")\n",
        "else:\n",
        "    print(\"The predicted class is: PlayTennis = No\")"
      ],
      "metadata": {
        "colab": {
          "base_uri": "https://localhost:8080/"
        },
        "id": "AXxIM0VJrxBJ",
        "outputId": "db5cdc71-cc7a-4fb6-c3a5-39229fffe672"
      },
      "execution_count": 7,
      "outputs": [
        {
          "output_type": "stream",
          "name": "stdout",
          "text": [
            "The predicted class is: PlayTennis = No\n"
          ]
        }
      ]
    },
    {
      "cell_type": "code",
      "source": [
        "from sklearn.naive_bayes import GaussianNB\n",
        "from sklearn.model_selection import train_test_split\n",
        "from sklearn.metrics import accuracy_score, classification_report, confusion_matrix\n",
        "from sklearn.preprocessing import LabelEncoder\n",
        "import numpy as np\n",
        "\n",
        "# Load the dataset\n",
        "df = pd.read_csv('PlayTennis_NB_Example.csv')\n",
        "df = df.drop(columns=['Day']) # Drop the 'Day' column as it is not needed for classification\n",
        "\n",
        "# Encode categorical features using LabelEncoder\n",
        "label_encoders = {}\n",
        "for column in df.columns:\n",
        "    if df[column].dtype == 'object':\n",
        "        le = LabelEncoder()\n",
        "        df[column] = le.fit_transform(df[column])\n",
        "        label_encoders[column] = le\n",
        "        # Display the mapping for the column without showing int64()\n",
        "        mapping = {original: int(encoded) for original, encoded in zip(le.classes_, le.transform(le.classes_))}\n",
        "        print(f\"Label Encoding for {column}: {mapping}\")\n",
        "\n",
        "\n",
        "\n",
        "# Split the dataset into features and target variable\n",
        "X = df.drop(columns=['PlayTennis'])\n",
        "y = df['PlayTennis']\n",
        "\n",
        "# Split the dataset into training and testing sets\n",
        "X_train, X_test, y_train, y_test = train_test_split(X, y, test_size=0.2, random_state=42)\n",
        "gnb = GaussianNB()\n",
        "gnb.fit(X_train, y_train)\n",
        "\n",
        "# Make predictions on the test set\n",
        "y_pred = gnb.predict(X_test)\n",
        "\n",
        "# Calculate accuracy and print classification report\n",
        "accuracy = accuracy_score(y_test, y_pred)\n",
        "print(\"Accuracy in %: \", round(accuracy,2)*100)"
      ],
      "metadata": {
        "colab": {
          "base_uri": "https://localhost:8080/"
        },
        "id": "gTFhMxslr0tR",
        "outputId": "cbc360ac-61cf-4012-8f46-6c14b1e28660"
      },
      "execution_count": 8,
      "outputs": [
        {
          "output_type": "stream",
          "name": "stdout",
          "text": [
            "Label Encoding for Outlook: {'Overcast': 0, 'Rain': 1, 'Sunny': 2}\n",
            "Label Encoding for Temperature: {'Cool': 0, 'Hot': 1, 'Mild': 2}\n",
            "Label Encoding for Humidity: {'High': 0, 'Normal': 1}\n",
            "Label Encoding for Wind: {'Strong': 0, 'Weak': 1}\n",
            "Label Encoding for PlayTennis: {'No': 0, 'Yes': 1}\n",
            "Accuracy in %:  100.0\n"
          ]
        }
      ]
    },
    {
      "cell_type": "code",
      "source": [
        "# Encode the test case with feature names\n",
        "test_case_encoded = pd.DataFrame({\n",
        "    'Outlook': label_encoders['Outlook'].transform([test_case['Outlook']])[0],\n",
        "    'Temperature': label_encoders['Temperature'].transform([test_case['Temperature']])[0],\n",
        "    'Humidity': label_encoders['Humidity'].transform([test_case['Humidity']])[0],\n",
        "    'Wind': label_encoders['Wind'].transform([test_case['Wind']])[0]\n",
        "}, index=[0])  # Create a DataFrame with feature names as columns"
      ],
      "metadata": {
        "id": "qXFeBLx5sBY8"
      },
      "execution_count": 9,
      "outputs": []
    },
    {
      "cell_type": "code",
      "source": [
        "print(\"Encoded Test Case with Feature Names:\")\n",
        "print(test_case_encoded)"
      ],
      "metadata": {
        "colab": {
          "base_uri": "https://localhost:8080/"
        },
        "id": "C3TyRopUsFeZ",
        "outputId": "3cebdb17-9557-414c-afa8-b536bfea0808"
      },
      "execution_count": 10,
      "outputs": [
        {
          "output_type": "stream",
          "name": "stdout",
          "text": [
            "Encoded Test Case with Feature Names:\n",
            "   Outlook  Temperature  Humidity  Wind\n",
            "0        2            0         0     0\n"
          ]
        }
      ]
    },
    {
      "cell_type": "code",
      "source": [
        "# display after inverse the encoding\n",
        "decoded_test_case = test_case_encoded.copy()\n",
        "for column in decoded_test_case.columns:\n",
        "    decoded_test_case[column] = label_encoders[column].inverse_transform(decoded_test_case[column])\n",
        "print(\"Given Test Case:\")\n",
        "print(decoded_test_case)"
      ],
      "metadata": {
        "colab": {
          "base_uri": "https://localhost:8080/"
        },
        "id": "oCnqKjrqsLde",
        "outputId": "37266a2f-dc66-42a0-d4a5-01aa0c5531d3"
      },
      "execution_count": 11,
      "outputs": [
        {
          "output_type": "stream",
          "name": "stdout",
          "text": [
            "Given Test Case:\n",
            "  Outlook Temperature Humidity    Wind\n",
            "0   Sunny        Cool     High  Strong\n"
          ]
        }
      ]
    },
    {
      "cell_type": "code",
      "source": [
        "# Make prediction for the test case\n",
        "predicted_class = gnb.predict(test_case_encoded)[0]\n",
        "predicted_class_label = label_encoders['PlayTennis'].inverse_transform([predicted_class])[0]\n",
        "print(\"Predicted class for the test case:\", predicted_class_label)"
      ],
      "metadata": {
        "colab": {
          "base_uri": "https://localhost:8080/"
        },
        "id": "tu5PtDaZsPf3",
        "outputId": "5bcbb3d3-34b0-4045-aa27-fb97037a1b25"
      },
      "execution_count": 12,
      "outputs": [
        {
          "output_type": "stream",
          "name": "stdout",
          "text": [
            "Predicted class for the test case: No\n"
          ]
        }
      ]
    },
    {
      "cell_type": "code",
      "source": [
        "from collections import Counter\n",
        "\n",
        "# Training data\n",
        "data = [\n",
        "    {\"CGPA\": \"≥8\", \"Interactiveness\": \"Yes\", \"Practical\": \"Very good\", \"Communication\": \"Good\", \"Job\": \"Yes\"},\n",
        "    {\"CGPA\": \"≥8\", \"Interactiveness\": \"No\",  \"Practical\": \"Good\",      \"Communication\": \"Moderate\", \"Job\": \"Yes\"},\n",
        "    {\"CGPA\": \"≥8\", \"Interactiveness\": \"No\",  \"Practical\": \"Average\",   \"Communication\": \"Poor\", \"Job\": \"No\"},\n",
        "    {\"CGPA\": \"<8\", \"Interactiveness\": \"No\",  \"Practical\": \"Average\",   \"Communication\": \"Good\", \"Job\": \"No\"},\n",
        "    {\"CGPA\": \"≥8\", \"Interactiveness\": \"Yes\", \"Practical\": \"Good\",      \"Communication\": \"Moderate\", \"Job\": \"Yes\"},\n",
        "    {\"CGPA\": \"≥8\", \"Interactiveness\": \"Yes\", \"Practical\": \"Good\",      \"Communication\": \"Moderate\", \"Job\": \"Yes\"},\n",
        "    {\"CGPA\": \"<8\", \"Interactiveness\": \"Yes\", \"Practical\": \"Good\",      \"Communication\": \"Poor\", \"Job\": \"No\"},\n",
        "    {\"CGPA\": \"≥8\", \"Interactiveness\": \"No\",  \"Practical\": \"Very good\", \"Communication\": \"Good\", \"Job\": \"Yes\"},\n",
        "    {\"CGPA\": \"≥8\", \"Interactiveness\": \"Yes\", \"Practical\": \"Good\",      \"Communication\": \"Good\", \"Job\": \"Yes\"},\n",
        "    {\"CGPA\": \"≥8\", \"Interactiveness\": \"Yes\", \"Practical\": \"Average\",   \"Communication\": \"Good\", \"Job\": \"Yes\"},\n",
        "]\n",
        "\n",
        "# Test case\n",
        "test = {\"CGPA\": \"≥8\", \"Interactiveness\": \"Yes\", \"Practical\": \"Average\", \"Communication\": \"Good\"}\n",
        "\n",
        "# Count how many Yes and No\n",
        "labels = [item[\"Job\"] for item in data]\n",
        "label_counts = Counter(labels)\n",
        "total = len(data)\n",
        "\n",
        "# Prior probabilities\n",
        "p_yes = label_counts[\"Yes\"] / total\n",
        "p_no = label_counts[\"No\"] / total\n",
        "\n",
        "# Conditional probability function\n",
        "def conditional_prob(attribute, value, label):\n",
        "    count = sum(1 for d in data if d[attribute] == value and d[\"Job\"] == label)\n",
        "    total_label = label_counts[label]\n",
        "    if total_label == 0:\n",
        "        return 0\n",
        "    return count / total_label\n",
        "\n",
        "# Calculate P(Yes | features)\n",
        "p_yes_given = p_yes\n",
        "for attr, val in test.items():\n",
        "    p_yes_given *= conditional_prob(attr, val, \"Yes\")\n",
        "\n",
        "# Calculate P(No | features)\n",
        "p_no_given = p_no\n",
        "for attr, val in test.items():\n",
        "    p_no_given *= conditional_prob(attr, val, \"No\")\n",
        "\n",
        "# Prediction\n",
        "prediction = \"Yes\" if p_yes_given > p_no_given else \"No\"\n",
        "\n",
        "print(f\"Probability Yes: {p_yes_given:.6f}\")\n",
        "print(f\"Probability No : {p_no_given:.6f}\")\n",
        "print(f\"Predicted Job Offer: {prediction}\")"
      ],
      "metadata": {
        "colab": {
          "base_uri": "https://localhost:8080/"
        },
        "id": "IC_wniCJtAKA",
        "outputId": "2bfd9004-8c2f-448f-e8b7-27117309cd54"
      },
      "execution_count": 13,
      "outputs": [
        {
          "output_type": "stream",
          "name": "stdout",
          "text": [
            "Probability Yes: 0.040816\n",
            "Probability No : 0.007407\n",
            "Predicted Job Offer: Yes\n"
          ]
        }
      ]
    }
  ]
}