{
  "nbformat": 4,
  "nbformat_minor": 0,
  "metadata": {
    "colab": {
      "provenance": [],
      "authorship_tag": "ABX9TyNbBGUC9l49fW9UR5qI+QHy",
      "include_colab_link": true
    },
    "kernelspec": {
      "name": "python3",
      "display_name": "Python 3"
    },
    "language_info": {
      "name": "python"
    }
  },
  "cells": [
    {
      "cell_type": "markdown",
      "metadata": {
        "id": "view-in-github",
        "colab_type": "text"
      },
      "source": [
        "<a href=\"https://colab.research.google.com/github/vaishnaviS302004/machine-learning-lab/blob/main/marcov0.ipynb\" target=\"_parent\"><img src=\"https://colab.research.google.com/assets/colab-badge.svg\" alt=\"Open In Colab\"/></a>"
      ]
    },
    {
      "cell_type": "code",
      "execution_count": 1,
      "metadata": {
        "id": "0DhEMfa8m5FU"
      },
      "outputs": [],
      "source": [
        "import numpy as np\n",
        "import matplotlib.pyplot as plt\n",
        "import networkx as nx\n",
        "\n",
        "\n",
        "# Define the states and transition matrix\n",
        "states = [\"S\", \"R\", \"C\"]\n",
        "transition_matrix = np.array([[0.7, 0.2, 0.1], [0.4, 0.4, 0.2], [0.3, 0.3, 0.4]])"
      ]
    },
    {
      "cell_type": "code",
      "source": [
        "G = nx.DiGraph()\n",
        "\n",
        "# Add edges with weights from the transition matrix\n",
        "for i, state_from in enumerate(states):\n",
        "    for j, state_to in enumerate(states):\n",
        "        weight = transition_matrix[i][j]\n",
        "        G.add_edge(state_from, state_to, weight=weight)\n",
        "\n",
        "# Define positions for nodes\n",
        "pos = nx.circular_layout(G)  # Arrange nodes in a circular layout\n",
        "\n",
        "# Draw the graph\n",
        "plt.figure(figsize=(4, 3))\n",
        "nx.draw_networkx_nodes(G, pos, node_size=300, node_color=\"lightblue\")\n",
        "nx.draw_networkx_edges(G, pos, arrowstyle=\"->\", arrowsize=10, edge_color=\"gray\")\n",
        "nx.draw_networkx_labels(G, pos, font_size=8, font_color=\"black\")\n",
        "\n",
        "# Add edge labels (transition probabilities)\n",
        "edge_labels = {(state_from, state_to): f\"{data['weight']:.1f}\"\n",
        "               for state_from, state_to, data in G.edges(data=True)}\n",
        "nx.draw_networkx_edge_labels(G, pos, edge_labels=edge_labels, font_size=8)\n",
        "\n",
        "plt.title(\"Weather State Transition Graph\")\n",
        "plt.show()\n"
      ],
      "metadata": {
        "colab": {
          "base_uri": "https://localhost:8080/",
          "height": 290
        },
        "id": "td5J3bEenDbI",
        "outputId": "6b77fbae-de7c-4813-c01e-2407f97186cb"
      },
      "execution_count": 2,
      "outputs": [
        {
          "output_type": "display_data",
          "data": {
            "text/plain": [
              "<Figure size 400x300 with 1 Axes>"
            ],
            "image/png": "[encoded data removed]"
          },
          "metadata": {}
        }
      ]
    },
    {
      "cell_type": "code",
      "source": [
        "# Lets use Markov Chain to predict the weather for the next 2 days\n",
        "# Initial state distribution (assuming starting in state \"S\")\n",
        "initial_state = np.array([1, 0, 0])  # 100% chance of starting in state \"S\"\n",
        "\n",
        "# Number of days to predict\n",
        "num_days = 2\n",
        "\n",
        "# Initialize the state distribution\n",
        "state_distribution = initial_state.copy()\n",
        "\n",
        "\n",
        "# Store the state distributions for each day\n",
        "state_distributions = [state_distribution.copy()]\n",
        "\n",
        "# Iterate through each day to predict the weather\n",
        "for day in range(num_days):\n",
        "    # Update the state distribution using the transition matrix\n",
        "    state_distribution = np.dot(state_distribution, transition_matrix)\n",
        "    state_distributions.append(state_distribution.copy())\n",
        "\n",
        "# Print the predicted state distributions for each day\n",
        "print(\"Predicted state distributions for each day:\")\n",
        "for day, distribution in enumerate(state_distributions):\n",
        "    print(f\"Day {day}: {distribution}\")\n",
        "\n",
        "# Convert state distributions to percentages\n",
        "state_distributions_percentage = [dist * 100 for dist in state_distributions]"
      ],
      "metadata": {
        "colab": {
          "base_uri": "https://localhost:8080/"
        },
        "id": "TAzSmQUpnKcd",
        "outputId": "502c00f6-64f7-4f9e-fef7-30a0a7385ee5"
      },
      "execution_count": 3,
      "outputs": [
        {
          "output_type": "stream",
          "name": "stdout",
          "text": [
            "Predicted state distributions for each day:\n",
            "Day 0: [1 0 0]\n",
            "Day 1: [0.7 0.2 0.1]\n",
            "Day 2: [0.6  0.25 0.15]\n"
          ]
        }
      ]
    },
    {
      "cell_type": "code",
      "source": [
        "import numpy as np\n",
        "\n",
        "# Define the transition matrix\n",
        "transition_matrix = np.array([\n",
        "    [0.7, 0.2, 0.1],  # From Sunny\n",
        "    [0.4, 0.4, 0.2],  # From Rainy\n",
        "    [0.3, 0.3, 0.4]   # From Cloudy\n",
        "])\n",
        "\n",
        "# Initial state: Sunny = [1, 0, 0]\n",
        "initial_state = np.array([1, 0, 0])\n",
        "\n",
        "# Number of days to predict\n",
        "days = 10\n",
        "\n",
        "# Multiply the state vector by the transition matrix for 10 steps\n",
        "current_state = initial_state\n",
        "for _ in range(days):\n",
        "    current_state = np.dot(current_state, transition_matrix)\n",
        "\n",
        "# Print final probabilities after 10 days\n",
        "print(\"Weather probabilities after 10 days:\")\n",
        "print(f\"Sunny:  {current_state[0]:.4f}\")\n",
        "print(f\"Rainy:  {current_state[1]:.4f}\")\n",
        "print(f\"Cloudy: {current_state[2]:.4f}\")\n",
        "\n",
        "# Food mapping\n",
        "food_mapping = {\n",
        "    0: \"Ice Cream\",   # Sunny\n",
        "    1: \"Soup\",        # Rainy\n",
        "    2: \"Sandwiches\"   # Cloudy\n",
        "}\n",
        "\n",
        "# Find the most likely weather state\n",
        "most_likely_state = np.argmax(current_state)\n",
        "predicted_food = food_mapping[most_likely_state]\n",
        "\n",
        "print(f\"\\nPredicted food item served after 10 days: {predicted_food}\")"
      ],
      "metadata": {
        "colab": {
          "base_uri": "https://localhost:8080/"
        },
        "id": "jSOpvAl5nO5M",
        "outputId": "71716527-ce3d-4b1d-9176-7695b72a5a1f"
      },
      "execution_count": 4,
      "outputs": [
        {
          "output_type": "stream",
          "name": "stdout",
          "text": [
            "Weather probabilities after 10 days:\n",
            "Sunny:  0.5455\n",
            "Rainy:  0.2727\n",
            "Cloudy: 0.1818\n",
            "\n",
            "Predicted food item served after 10 days: Ice Cream\n"
          ]
        }
      ]
    }
  ]
}