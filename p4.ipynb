{
  "nbformat": 4,
  "nbformat_minor": 0,
  "metadata": {
    "colab": {
      "provenance": [],
      "authorship_tag": "ABX9TyO3aD0khBboxkF/3/G2tHbR",
      "include_colab_link": true
    },
    "kernelspec": {
      "name": "python3",
      "display_name": "Python 3"
    },
    "language_info": {
      "name": "python"
    }
  },
  "cells": [
    {
      "cell_type": "markdown",
      "metadata": {
        "id": "view-in-github",
        "colab_type": "text"
      },
      "source": [
        "<a href=\"https://colab.research.google.com/github/vaishnaviS302004/machine-learning-lab/blob/main/p4.ipynb\" target=\"_parent\"><img src=\"https://colab.research.google.com/assets/colab-badge.svg\" alt=\"Open In Colab\"/></a>"
      ]
    },
    {
      "cell_type": "code",
      "execution_count": 1,
      "metadata": {
        "colab": {
          "base_uri": "https://localhost:8080/"
        },
        "id": "vb7hoMj0QHfH",
        "outputId": "473c1be8-7a6c-4ec6-d60f-4f89cc54b3b4"
      },
      "outputs": [
        {
          "output_type": "stream",
          "name": "stdout",
          "text": [
            "Learned Hypothesis:\n",
            "['?', '?']\n"
          ]
        }
      ],
      "source": [
        "\n",
        "import pandas as pd\n",
        "\n",
        "def find_s(data):\n",
        "    \"\"\"\n",
        "    Implements the Find-S algorithm.\n",
        "\n",
        "    Args:\n",
        "        data: A pandas DataFrame with attributes as columns\n",
        "              and the last column as the target concept (positive examples).\n",
        "\n",
        "    Returns:\n",
        "        A list representing the learned hypothesis.\n",
        "    \"\"\"\n",
        "    # Initialize the hypothesis with the most specific values\n",
        "    hypothesis = ['?' for _ in range(len(data.columns) - 1)]\n",
        "\n",
        "    # Iterate through the positive training examples\n",
        "    for index, row in data.iterrows():\n",
        "        # Only consider positive examples\n",
        "        if row.iloc[-1] == 'Yes': # Assuming 'Yes' represents a positive example\n",
        "            for i in range(len(row) - 1):\n",
        "                # If the attribute value in the example is different from the hypothesis,\n",
        "                # generalize the hypothesis\n",
        "                if row.iloc[i] != hypothesis[i]:\n",
        "                    if hypothesis[i] == '?':\n",
        "                        hypothesis[i] = row.iloc[i]\n",
        "                    else:\n",
        "                        hypothesis[i] = '?'\n",
        "    return hypothesis\n",
        "\n",
        "# Replace 'your_data.csv' with the name of your uploaded file\n",
        "try:\n",
        "    df = pd.read_csv('testdata.csv')\n",
        "\n",
        "    # Filter for only positive examples if your dataset includes negative ones\n",
        "    positive_examples = df[df.iloc[:, -1] == 'Yes']\n",
        "\n",
        "    # Run the Find-S algorithm\n",
        "    learned_hypothesis = find_s(positive_examples)\n",
        "\n",
        "    print(\"Learned Hypothesis:\")\n",
        "    print(learned_hypothesis)\n",
        "\n",
        "except FileNotFoundError:\n",
        "    print(\"Error: 'test.csv' not found. Please upload your data file.\")"
      ]
    }
  ]
}