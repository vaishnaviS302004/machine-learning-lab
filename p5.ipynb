{
  "nbformat": 4,
  "nbformat_minor": 0,
  "metadata": {
    "colab": {
      "provenance": [],
      "authorship_tag": "ABX9TyObUxv+vlri7tJ+FYYN32CH",
      "include_colab_link": true
    },
    "kernelspec": {
      "name": "python3",
      "display_name": "Python 3"
    },
    "language_info": {
      "name": "python"
    }
  },
  "cells": [
    {
      "cell_type": "markdown",
      "metadata": {
        "id": "view-in-github",
        "colab_type": "text"
      },
      "source": [
        "<a href=\"https://colab.research.google.com/github/vaishnaviS302004/machine-learning-lab/blob/main/p5.ipynb\" target=\"_parent\"><img src=\"https://colab.research.google.com/assets/colab-badge.svg\" alt=\"Open In Colab\"/></a>"
      ]
    },
    {
      "cell_type": "code",
      "execution_count": 1,
      "metadata": {
        "colab": {
          "base_uri": "https://localhost:8080/"
        },
        "id": "hCuhurxPRXzy",
        "outputId": "acee0af5-e1d9-47ee-c9ea-be1ec1e27539"
      },
      "outputs": [
        {
          "output_type": "stream",
          "name": "stdout",
          "text": [
            "Generated and labeled training data (first 50 points):\n",
            "x_train: [[0.37454012]\n",
            " [0.95071431]\n",
            " [0.73199394]\n",
            " [0.59865848]\n",
            " [0.15601864]]\n",
            "y_train: ['Class1' 'Class2' 'Class2' 'Class2' 'Class1']\n"
          ]
        }
      ],
      "source": [
        "import numpy as np\n",
        "\n",
        "# Generate 100 random values between 0 and 1\n",
        "np.random.seed(42) # for reproducibility\n",
        "x_values = np.random.rand(100)\n",
        "\n",
        "# Label the first 50 points\n",
        "x_train = x_values[:50].reshape(-1, 1) # Reshape for scikit-learn\n",
        "y_train = np.where(x_train[:, 0] <= 0.5, 'Class1', 'Class2') # Note the correction from the prompt's typo\n",
        "\n",
        "print(\"Generated and labeled training data (first 50 points):\")\n",
        "print(\"x_train:\", x_train[:5]) # Print first 5 for preview\n",
        "print(\"y_train:\", y_train[:5])"
      ]
    },
    {
      "cell_type": "code",
      "source": [
        "from sklearn.neighbors import KNeighborsClassifier\n",
        "from sklearn.metrics import accuracy_score\n",
        "\n",
        "# The remaining 50 points for classification\n",
        "x_test = x_values[50:].reshape(-1, 1) # Reshape for scikit-learn\n",
        "\n",
        "# Define the values of k to test\n",
        "k_values = [1, 2, 3, 4, 5, 20, 30]\n",
        "\n",
        "print(\"\\nKNN Classification Results:\")\n",
        "\n",
        "for k in k_values:\n",
        "    # Initialize and train the KNN classifier\n",
        "    knn = KNeighborsClassifier(n_neighbors=k)\n",
        "    knn.fit(x_train, y_train)\n",
        "\n",
        "    # Predict the class for the test points\n",
        "    y_pred = knn.predict(x_test)\n",
        "\n",
        "    # Since we don't have true labels for the test set to calculate accuracy,\n",
        "    # we'll just print the predictions for observation.\n",
        "    print(f\"\\nPredictions for k={k}:\")\n",
        "    print(y_pred[:5]) # Print first 5 predictions for preview"
      ],
      "metadata": {
        "colab": {
          "base_uri": "https://localhost:8080/"
        },
        "id": "vHU7qAR2R3PL",
        "outputId": "fafc2487-fe5c-4a2f-b4ea-11953ca3e4ae"
      },
      "execution_count": 2,
      "outputs": [
        {
          "output_type": "stream",
          "name": "stdout",
          "text": [
            "\n",
            "KNN Classification Results:\n",
            "\n",
            "Predictions for k=1:\n",
            "['Class2' 'Class2' 'Class2' 'Class2' 'Class2']\n",
            "\n",
            "Predictions for k=2:\n",
            "['Class2' 'Class2' 'Class2' 'Class2' 'Class2']\n",
            "\n",
            "Predictions for k=3:\n",
            "['Class2' 'Class2' 'Class2' 'Class2' 'Class2']\n",
            "\n",
            "Predictions for k=4:\n",
            "['Class2' 'Class2' 'Class2' 'Class2' 'Class2']\n",
            "\n",
            "Predictions for k=5:\n",
            "['Class2' 'Class2' 'Class2' 'Class2' 'Class2']\n",
            "\n",
            "Predictions for k=20:\n",
            "['Class2' 'Class2' 'Class2' 'Class2' 'Class2']\n",
            "\n",
            "Predictions for k=30:\n",
            "['Class2' 'Class2' 'Class2' 'Class2' 'Class2']\n"
          ]
        }
      ]
    }
  ]
}